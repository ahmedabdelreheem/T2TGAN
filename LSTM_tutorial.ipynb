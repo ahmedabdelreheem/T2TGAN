{
 "cells": [
  {
   "cell_type": "code",
   "execution_count": 19,
   "metadata": {},
   "outputs": [],
   "source": [
    "import torch\n",
    "import torch.nn as nn\n",
    "from torch import optim\n",
    "import torch.nn.functional as F\n",
    "import numpy as np \n",
    "import time \n",
    "from torch.nn.utils.rnn import pad_sequence\n",
    "from torch.utils.data import random_split\n",
    "import math\n",
    "import string\n",
    "from torch.autograd import Variable"
   ]
  },
  {
   "cell_type": "code",
   "execution_count": 20,
   "metadata": {},
   "outputs": [],
   "source": [
    "class LSTM(nn.Module):\n",
    "    def __init__(self, input_size, batch_size, output_size, hidden_dim, num_layers):\n",
    "        super(LSTM, self).__init__()\n",
    "        self.input_size = input_size\n",
    "        self.hidden_dim = hidden_dim\n",
    "        self.batch_size = batch_size\n",
    "        self.num_layers = num_layers\n",
    "        \n",
    "        # define an LSTM with specified parameters\n",
    "        # batch_first means that the first dim of the input and output will be the batch_size\n",
    "        self.lstm=nn.LSTM( input_size, hidden_dim, num_layers,batch_first=True) \n",
    "        \n",
    "         # last, fully-connected layer\n",
    "        self.fc=nn.Linear( hidden_dim, output_size)\n",
    "    def forward(self, x, h_init,c_init):\n",
    "        # x (batch_size, time_step, input_size)\n",
    "        # hidden (n_layers, batch_size, hidden_dim)\n",
    "        # r_out (batch_size, time_step, hidden_size)\n",
    "        batch_size =x.size(0)\n",
    "        # get LSTM outputs\n",
    "        out, (h_final, c_final) =self.lstm(x, (h_init,c_init))\n",
    "        # shape output to be (batch_size*seq_length, hidden_dim)\n",
    "#         out=out.contiguous()\n",
    "#         out = out.view(-1, hidden_dim)\n",
    "        # get final output\n",
    "        score_seq      =self.fc(out)\n",
    "        return score_seq,  h_final , c_final"
   ]
  },
  {
   "cell_type": "code",
   "execution_count": 21,
   "metadata": {},
   "outputs": [
    {
     "name": "stdout",
     "output_type": "stream",
     "text": [
      "Input size:  torch.Size([10, 1000, 5])\n",
      "hidden_size:  torch.Size([1, 10, 12])\n",
      "Output size:  torch.Size([10, 1000, 5])\n"
     ]
    }
   ],
   "source": [
    "\n",
    "\n",
    "### Check the input and output dimensions\n",
    "#As a check that your model is working as expected, test out how it responds to input data.\n",
    "\n",
    "n_layers=1\n",
    "batch_size=10\n",
    "hidden_dim=12\n",
    "seq_length=1000\n",
    "input_size=5\n",
    "output_size=5\n",
    "# test that dimensions are as expected\n",
    "test_lstm = LSTM(input_size=5,batch_size=10,output_size=5, hidden_dim=hidden_dim, num_layers=1)\n",
    "\n",
    "# You must wrap your tensors into Variables before passing them to the LSTM module like so\n",
    "h=Variable(torch.zeros(n_layers,batch_size,hidden_dim))\n",
    "c=Variable(torch.zeros(n_layers,batch_size,hidden_dim))\n",
    "\n",
    "# generate evenly spaced, test data pts\n",
    "input_data=Variable(torch.zeros(batch_size,seq_length,input_size)) #.unsqueeze(0)) # give it a batch_size of 1 as first dimension\n",
    "\n",
    "print('Input size: ', input_data.size())\n",
    "print('hidden_size: ', h.size())\n",
    "# test out rnn sizes\n",
    "test_out, test_h,test_c = test_lstm(input_data, h,c)\n",
    "print('Output size: ', test_out.size())"
   ]
  },
  {
   "cell_type": "code",
   "execution_count": 14,
   "metadata": {},
   "outputs": [],
   "source": [
    "def count_parameters(model):\n",
    "    return sum(p.numel() for p in model.parameters() if p.requires_grad)\n"
   ]
  },
  {
   "cell_type": "code",
   "execution_count": 18,
   "metadata": {},
   "outputs": [
    {
     "data": {
      "text/plain": [
       "977"
      ]
     },
     "execution_count": 18,
     "metadata": {},
     "output_type": "execute_result"
    }
   ],
   "source": [
    "count_parameters(test_lstm)"
   ]
  }
 ],
 "metadata": {
  "kernelspec": {
   "display_name": "Python 3",
   "language": "python",
   "name": "python3"
  },
  "language_info": {
   "codemirror_mode": {
    "name": "ipython",
    "version": 3
   },
   "file_extension": ".py",
   "mimetype": "text/x-python",
   "name": "python",
   "nbconvert_exporter": "python",
   "pygments_lexer": "ipython3",
   "version": "3.7.5"
  }
 },
 "nbformat": 4,
 "nbformat_minor": 2
}
